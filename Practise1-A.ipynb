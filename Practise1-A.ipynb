{
 "cells": [
  {
   "cell_type": "code",
   "execution_count": null,
   "metadata": {},
   "outputs": [],
   "source": [
    "A = input(\"Enter your Name: \")\n",
    "X = input(\"Enter the first Number: \")\n",
    "Y = input(\"Enter the Second Number: \")\n",
    "\n",
    "print(\"Hi Mr/Mrs \" + A + \",\")\n",
    "print(\"The Sum of \"+str(X)+\" and \" + str(Y) + (\" is: \") + str(int(X) + int(Y)))\n",
    "print(\"The Sub of \"+str(X)+\" and \" + str(Y) + (\" is: \") + str(int(X) - int(Y)))\n",
    "print(\"The Mul of \"+str(X)+\" and \" + str(Y) + (\" is: \") + str(int(X) * int(Y)))\n",
    "print(\"The Div of \"+str(X)+\" over \" + str(Y) + (\" is: \") + str(int(X) / int(Y)))\n",
    "print(\"The Reminder of \"+str(X)+\" over \" + str(Y) + (\" is: \") + str(int(X) % int(Y)))\n",
    "print(\"The Exponent of \"+str(X)+\" to the power of \" + str(Y) + (\" is: \") + str(int(X) ** int(Y)))"
   ]
  }
 ],
 "metadata": {
  "kernelspec": {
   "display_name": "Python 3",
   "language": "python",
   "name": "python3"
  },
  "language_info": {
   "codemirror_mode": {
    "name": "ipython",
    "version": 3
   },
   "file_extension": ".py",
   "mimetype": "text/x-python",
   "name": "python",
   "nbconvert_exporter": "python",
   "pygments_lexer": "ipython3",
   "version": "3.6.5"
  }
 },
 "nbformat": 4,
 "nbformat_minor": 2
}
