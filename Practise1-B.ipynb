{
 "cells": [
  {
   "cell_type": "code",
   "execution_count": 9,
   "metadata": {},
   "outputs": [
    {
     "name": "stdout",
     "output_type": "stream",
     "text": [
      "Enter your number: -50\n",
      "6250000.0\n"
     ]
    }
   ],
   "source": [
    "x = float(input(\"Enter your number: \"))\n",
    "\n",
    "if (x < -100):\n",
    "    print(-x)\n",
    "elif (x >= -100 and x <= -25):\n",
    "    print(x**4)\n",
    "elif (x > -25 and x <= 0):\n",
    "    print(3 * (x**2) - 1)\n",
    "elif ( 0 < x and x <= 100):\n",
    "    print((3.14/2)*x + 3**x)\n",
    "elif ( x > 100):\n",
    "    print(x)\n",
    "    "
   ]
  },
  {
   "cell_type": "code",
   "execution_count": 2,
   "metadata": {},
   "outputs": [
    {
     "name": "stdout",
     "output_type": "stream",
     "text": [
      "Hi\n"
     ]
    }
   ],
   "source": [
    "print(\"Hi\")"
   ]
  },
  {
   "cell_type": "code",
   "execution_count": null,
   "metadata": {},
   "outputs": [],
   "source": []
  }
 ],
 "metadata": {
  "kernelspec": {
   "display_name": "Python 3",
   "language": "python",
   "name": "python3"
  },
  "language_info": {
   "codemirror_mode": {
    "name": "ipython",
    "version": 3
   },
   "file_extension": ".py",
   "mimetype": "text/x-python",
   "name": "python",
   "nbconvert_exporter": "python",
   "pygments_lexer": "ipython3",
   "version": "3.6.5"
  }
 },
 "nbformat": 4,
 "nbformat_minor": 2
}
